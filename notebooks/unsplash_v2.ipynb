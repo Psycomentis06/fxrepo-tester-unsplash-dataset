{
 "cells": [
  {
   "cell_type": "code",
   "execution_count": 1,
   "metadata": {
    "collapsed": true,
    "ExecuteTime": {
     "end_time": "2023-09-13T20:06:13.836681243Z",
     "start_time": "2023-09-13T20:06:13.441748522Z"
    }
   },
   "outputs": [],
   "source": [
    "import pandas as pd"
   ]
  },
  {
   "cell_type": "code",
   "execution_count": 2,
   "outputs": [
    {
     "data": {
      "text/plain": "[False, True, True, True, True]"
     },
     "execution_count": 2,
     "metadata": {},
     "output_type": "execute_result"
    }
   ],
   "source": [
    "import re\n",
    "\n",
    "\n",
    "def is_valid(val: str):\n",
    "    pattern = r'[^a-zA-Z\\s]'\n",
    "    pat = re.compile(pattern)\n",
    "    if pat.search(val):\n",
    "        return True\n",
    "    return False\n",
    "\n",
    "\n",
    "a = [\n",
    "    is_valid(\"hello\"),\n",
    "    is_valid(\"hi2\"),\n",
    "    is_valid(\"/this isfun\"),\n",
    "    is_valid(\"hel_lo\"),\n",
    "    is_valid(\"gre`n\"),\n",
    "]\n",
    "\n",
    "a"
   ],
   "metadata": {
    "collapsed": false,
    "ExecuteTime": {
     "end_time": "2023-09-13T20:06:15.024342849Z",
     "start_time": "2023-09-13T20:06:14.950562360Z"
    }
   }
  },
  {
   "cell_type": "code",
   "execution_count": 3,
   "outputs": [],
   "source": [
    "def is_too_long(val: str, max: int = 20):\n",
    "    return len(val) > max"
   ],
   "metadata": {
    "collapsed": false,
    "ExecuteTime": {
     "end_time": "2023-09-13T20:06:16.426434362Z",
     "start_time": "2023-09-13T20:06:16.389770224Z"
    }
   }
  },
  {
   "cell_type": "code",
   "execution_count": 4,
   "outputs": [
    {
     "data": {
      "text/plain": "[True, True, False]"
     },
     "execution_count": 4,
     "metadata": {},
     "output_type": "execute_result"
    }
   ],
   "source": [
    "import unicodedata\n",
    "\n",
    "\n",
    "def is_ascii(val: str):\n",
    "    for c in val:\n",
    "        try:\n",
    "            n = unicodedata.name(c).startswith(\"LATIN\")\n",
    "            if n:\n",
    "                return True\n",
    "        except ValueError:\n",
    "            return False\n",
    "    return False\n",
    "\n",
    "\n",
    "b = [\n",
    "    is_ascii(\"hello\"),\n",
    "    is_ascii(\"hi2\"),\n",
    "    is_ascii(\"نيقة\")\n",
    "]\n",
    "b"
   ],
   "metadata": {
    "collapsed": false,
    "ExecuteTime": {
     "end_time": "2023-09-13T20:06:17.494850056Z",
     "start_time": "2023-09-13T20:06:17.430131498Z"
    }
   }
  },
  {
   "cell_type": "code",
   "execution_count": 6,
   "outputs": [
    {
     "data": {
      "text/plain": "True"
     },
     "execution_count": 6,
     "metadata": {},
     "output_type": "execute_result"
    }
   ],
   "source": [
    "def is_id_valid(id: str):\n",
    "    return len(id) == 11\n",
    "\n",
    "\n",
    "is_id_valid(\"-UrmKM-sTq0\")"
   ],
   "metadata": {
    "collapsed": false,
    "ExecuteTime": {
     "end_time": "2023-09-13T20:06:27.101439429Z",
     "start_time": "2023-09-13T20:06:27.041933915Z"
    }
   }
  },
  {
   "cell_type": "code",
   "execution_count": 28,
   "outputs": [
    {
     "data": {
      "text/plain": "(2396849, 4)"
     },
     "execution_count": 28,
     "metadata": {},
     "output_type": "execute_result"
    }
   ],
   "source": [
    "# remove rows with non ascii characters\n",
    "# remove numerical rows\n",
    "# remove long names\n",
    "category_df = pd.read_csv('../data/collections.tsv000', sep='\\t', header=0)\n",
    "category_df.shape"
   ],
   "metadata": {
    "collapsed": false,
    "ExecuteTime": {
     "end_time": "2023-09-13T20:20:38.171541599Z",
     "start_time": "2023-09-13T20:20:32.092222223Z"
    }
   }
  },
  {
   "cell_type": "code",
   "execution_count": 29,
   "outputs": [
    {
     "data": {
      "text/plain": "(1280989, 3)"
     },
     "execution_count": 29,
     "metadata": {},
     "output_type": "execute_result"
    }
   ],
   "source": [
    "category_df['collection_title'] = category_df['collection_title'].astype(str)\n",
    "category_df = category_df[~category_df['collection_title'].apply(is_too_long, args=(20,))]\n",
    "category_df = category_df[~category_df['collection_title'].apply(is_valid)]\n",
    "category_df['collection_title'] = category_df['collection_title'].str.lower()\n",
    "category_df = category_df[category_df['collection_title'].apply(is_ascii)]\n",
    "# category_df = category_df.groupby(\"photo_id\")['collection_title'].apply(','.join).reset_index()\n",
    "category_df = category_df.groupby(['photo_id', 'collection_title']).size().reset_index(name='count')\n",
    "category_df.shape\n"
   ],
   "metadata": {
    "collapsed": false,
    "ExecuteTime": {
     "end_time": "2023-09-13T20:20:52.738059720Z",
     "start_time": "2023-09-13T20:20:44.190982532Z"
    }
   }
  },
  {
   "cell_type": "code",
   "execution_count": 30,
   "outputs": [
    {
     "data": {
      "text/plain": "(1280989, 2)"
     },
     "execution_count": 30,
     "metadata": {},
     "output_type": "execute_result"
    }
   ],
   "source": [
    "first_most_used_titles = category_df.groupby('photo_id').apply(\n",
    "    lambda x: x.sort_values('count', ascending=False).head(1)).reset_index(drop=True)\n",
    "category_df = category_df.merge(first_most_used_titles, on='photo_id', suffixes=('', '_first_most_used'))\n",
    "category_df = category_df.drop(columns=['collection_title_first_most_used'])\n",
    "category_df = category_df[['collection_title', 'photo_id']]\n",
    "category_df.shape"
   ],
   "metadata": {
    "collapsed": false,
    "ExecuteTime": {
     "end_time": "2023-09-13T20:21:12.239383953Z",
     "start_time": "2023-09-13T20:20:57.399431865Z"
    }
   }
  },
  {
   "cell_type": "code",
   "execution_count": 31,
   "outputs": [
    {
     "data": {
      "text/plain": "         collection_title     photo_id\n989066            holiday  lpjb_UMOyx8\n333346           wildlife  G0miZ5OYaXI\n790590           terapias  betmVWGYcLY\n270643             autumn  CqgbxNGsf6Y\n594292   rds presentation  Swfc6shtGP4\n900144        marine life  hYAkdFZb-Yg\n137613            mystery  6LkxufmApSk\n462464        beach theme  MhJJgPI7cNk\n865368      koi wellbeing  fbAnIjhrOL4\n584659  negative emotions  SbcqUQ4iEcI",
      "text/html": "<div>\n<style scoped>\n    .dataframe tbody tr th:only-of-type {\n        vertical-align: middle;\n    }\n\n    .dataframe tbody tr th {\n        vertical-align: top;\n    }\n\n    .dataframe thead th {\n        text-align: right;\n    }\n</style>\n<table border=\"1\" class=\"dataframe\">\n  <thead>\n    <tr style=\"text-align: right;\">\n      <th></th>\n      <th>collection_title</th>\n      <th>photo_id</th>\n    </tr>\n  </thead>\n  <tbody>\n    <tr>\n      <th>989066</th>\n      <td>holiday</td>\n      <td>lpjb_UMOyx8</td>\n    </tr>\n    <tr>\n      <th>333346</th>\n      <td>wildlife</td>\n      <td>G0miZ5OYaXI</td>\n    </tr>\n    <tr>\n      <th>790590</th>\n      <td>terapias</td>\n      <td>betmVWGYcLY</td>\n    </tr>\n    <tr>\n      <th>270643</th>\n      <td>autumn</td>\n      <td>CqgbxNGsf6Y</td>\n    </tr>\n    <tr>\n      <th>594292</th>\n      <td>rds presentation</td>\n      <td>Swfc6shtGP4</td>\n    </tr>\n    <tr>\n      <th>900144</th>\n      <td>marine life</td>\n      <td>hYAkdFZb-Yg</td>\n    </tr>\n    <tr>\n      <th>137613</th>\n      <td>mystery</td>\n      <td>6LkxufmApSk</td>\n    </tr>\n    <tr>\n      <th>462464</th>\n      <td>beach theme</td>\n      <td>MhJJgPI7cNk</td>\n    </tr>\n    <tr>\n      <th>865368</th>\n      <td>koi wellbeing</td>\n      <td>fbAnIjhrOL4</td>\n    </tr>\n    <tr>\n      <th>584659</th>\n      <td>negative emotions</td>\n      <td>SbcqUQ4iEcI</td>\n    </tr>\n  </tbody>\n</table>\n</div>"
     },
     "execution_count": 31,
     "metadata": {},
     "output_type": "execute_result"
    }
   ],
   "source": [
    "category_df.sample(10)"
   ],
   "metadata": {
    "collapsed": false,
    "ExecuteTime": {
     "end_time": "2023-09-13T20:21:14.113085650Z",
     "start_time": "2023-09-13T20:21:13.972741350Z"
    }
   }
  },
  {
   "cell_type": "code",
   "execution_count": 37,
   "outputs": [
    {
     "data": {
      "text/plain": "(2666051, 5)"
     },
     "execution_count": 37,
     "metadata": {},
     "output_type": "execute_result"
    }
   ],
   "source": [
    "tag_df = pd.read_csv('../data/keywords.tsv000', sep='\\t', header=0)\n",
    "tag_df.shape\n"
   ],
   "metadata": {
    "collapsed": false,
    "ExecuteTime": {
     "end_time": "2023-09-13T20:29:38.223015701Z",
     "start_time": "2023-09-13T20:29:35.146898560Z"
    }
   }
  },
  {
   "cell_type": "code",
   "execution_count": 38,
   "outputs": [
    {
     "data": {
      "text/plain": "(2375593, 3)"
     },
     "execution_count": 38,
     "metadata": {},
     "output_type": "execute_result"
    }
   ],
   "source": [
    "tag_df['keyword'] = tag_df['keyword'].astype(str)\n",
    "tag_df = tag_df[~tag_df['keyword'].apply(is_too_long, args=(10,))]\n",
    "tag_df = tag_df[~tag_df['keyword'].apply(is_valid)]\n",
    "tag_df['keyword'] = tag_df['keyword'].str.lower()\n",
    "tag_df = tag_df[tag_df['keyword'].apply(is_ascii)]\n",
    "tag_df = tag_df.groupby(['photo_id', 'keyword']).size().reset_index(name='count')\n",
    "tag_df.shape"
   ],
   "metadata": {
    "collapsed": false,
    "ExecuteTime": {
     "end_time": "2023-09-13T20:29:56.886105594Z",
     "start_time": "2023-09-13T20:29:46.726890727Z"
    }
   }
  },
  {
   "cell_type": "code",
   "execution_count": 39,
   "outputs": [
    {
     "data": {
      "text/plain": "(6995, 2)"
     },
     "execution_count": 39,
     "metadata": {},
     "output_type": "execute_result"
    }
   ],
   "source": [
    "first_most_used_keywords = tag_df.groupby('photo_id').apply(\n",
    "    lambda x: x.sort_values('count', ascending=False).head(10)).reset_index(drop=True)\n",
    "tag_df = tag_df.merge(first_most_used_keywords, on='photo_id', suffixes=('', '_first_most_used'))\n",
    "tag_df = tag_df.drop(columns=['keyword_first_most_used'])\n",
    "tag_df = tag_df.drop_duplicates(subset=['keyword'])\n",
    "tag_df = tag_df.groupby(\"photo_id\")['keyword'].apply(','.join).reset_index()\n",
    "tag_df = tag_df[['keyword', 'photo_id']]\n",
    "\n",
    "tag_df.shape"
   ],
   "metadata": {
    "collapsed": false,
    "ExecuteTime": {
     "end_time": "2023-09-13T20:30:22.139066424Z",
     "start_time": "2023-09-13T20:30:02.558982847Z"
    }
   }
  },
  {
   "cell_type": "code",
   "execution_count": 40,
   "outputs": [
    {
     "data": {
      "text/plain": "                       keyword     photo_id\n2307       framework,spacement  CpHNKNRwXps\n6855                     tovel  y5vLKnZr6Zg\n1907  primordial,unusual,weird  9UKBsBpLwQo\n6633                      cher  vLCxJg4eWVU\n4797                 fish food  _U0SEppuF6Q\n4328     invitation,right hand  UvgzVZimyWU\n354                        gym  02T6r1rCHjM\n6839                city night  xr43RescWSA\n3315                stream bed  LIlG2UO71TY\n5111                     slops  cujzXuKmHwI\n4891         cornishrex,redcat  aPJif68ghkg\n2712           furka,rhone,uri  FzrjgIId6NU\n4478                 aboveshot  WfjoQ66yTsY\n3262                   plantas  Km9NK2bJGVU\n823         arthropod,lycaenid  2CubIH6NMEo\n5342                blog photo  ff0HoIx3PzU\n2269             moreno,perito  CUeTCPQLRg4\n3623                  sudtirol  O8kyWikNYwY\n1548                 southpole  6g_XF6iRi4I\n4910                     inter  afwi-D9xmt4",
      "text/html": "<div>\n<style scoped>\n    .dataframe tbody tr th:only-of-type {\n        vertical-align: middle;\n    }\n\n    .dataframe tbody tr th {\n        vertical-align: top;\n    }\n\n    .dataframe thead th {\n        text-align: right;\n    }\n</style>\n<table border=\"1\" class=\"dataframe\">\n  <thead>\n    <tr style=\"text-align: right;\">\n      <th></th>\n      <th>keyword</th>\n      <th>photo_id</th>\n    </tr>\n  </thead>\n  <tbody>\n    <tr>\n      <th>2307</th>\n      <td>framework,spacement</td>\n      <td>CpHNKNRwXps</td>\n    </tr>\n    <tr>\n      <th>6855</th>\n      <td>tovel</td>\n      <td>y5vLKnZr6Zg</td>\n    </tr>\n    <tr>\n      <th>1907</th>\n      <td>primordial,unusual,weird</td>\n      <td>9UKBsBpLwQo</td>\n    </tr>\n    <tr>\n      <th>6633</th>\n      <td>cher</td>\n      <td>vLCxJg4eWVU</td>\n    </tr>\n    <tr>\n      <th>4797</th>\n      <td>fish food</td>\n      <td>_U0SEppuF6Q</td>\n    </tr>\n    <tr>\n      <th>4328</th>\n      <td>invitation,right hand</td>\n      <td>UvgzVZimyWU</td>\n    </tr>\n    <tr>\n      <th>354</th>\n      <td>gym</td>\n      <td>02T6r1rCHjM</td>\n    </tr>\n    <tr>\n      <th>6839</th>\n      <td>city night</td>\n      <td>xr43RescWSA</td>\n    </tr>\n    <tr>\n      <th>3315</th>\n      <td>stream bed</td>\n      <td>LIlG2UO71TY</td>\n    </tr>\n    <tr>\n      <th>5111</th>\n      <td>slops</td>\n      <td>cujzXuKmHwI</td>\n    </tr>\n    <tr>\n      <th>4891</th>\n      <td>cornishrex,redcat</td>\n      <td>aPJif68ghkg</td>\n    </tr>\n    <tr>\n      <th>2712</th>\n      <td>furka,rhone,uri</td>\n      <td>FzrjgIId6NU</td>\n    </tr>\n    <tr>\n      <th>4478</th>\n      <td>aboveshot</td>\n      <td>WfjoQ66yTsY</td>\n    </tr>\n    <tr>\n      <th>3262</th>\n      <td>plantas</td>\n      <td>Km9NK2bJGVU</td>\n    </tr>\n    <tr>\n      <th>823</th>\n      <td>arthropod,lycaenid</td>\n      <td>2CubIH6NMEo</td>\n    </tr>\n    <tr>\n      <th>5342</th>\n      <td>blog photo</td>\n      <td>ff0HoIx3PzU</td>\n    </tr>\n    <tr>\n      <th>2269</th>\n      <td>moreno,perito</td>\n      <td>CUeTCPQLRg4</td>\n    </tr>\n    <tr>\n      <th>3623</th>\n      <td>sudtirol</td>\n      <td>O8kyWikNYwY</td>\n    </tr>\n    <tr>\n      <th>1548</th>\n      <td>southpole</td>\n      <td>6g_XF6iRi4I</td>\n    </tr>\n    <tr>\n      <th>4910</th>\n      <td>inter</td>\n      <td>afwi-D9xmt4</td>\n    </tr>\n  </tbody>\n</table>\n</div>"
     },
     "execution_count": 40,
     "metadata": {},
     "output_type": "execute_result"
    }
   ],
   "source": [
    "tag_df.sample(20)"
   ],
   "metadata": {
    "collapsed": false,
    "ExecuteTime": {
     "end_time": "2023-09-13T20:30:35.772419951Z",
     "start_time": "2023-09-13T20:30:35.639465821Z"
    }
   }
  },
  {
   "cell_type": "code",
   "execution_count": 41,
   "outputs": [],
   "source": [
    "photo_df = pd.read_csv('../data/photos.tsv000', sep='\\t', header=0)\n",
    "photo_df = photo_df[['photo_id', 'photo_image_url', 'photo_description', 'ai_description']]"
   ],
   "metadata": {
    "collapsed": false,
    "ExecuteTime": {
     "end_time": "2023-09-13T20:30:50.468669347Z",
     "start_time": "2023-09-13T20:30:49.515319029Z"
    }
   }
  },
  {
   "cell_type": "code",
   "execution_count": 42,
   "outputs": [
    {
     "data": {
      "text/plain": "(1281078, 6)"
     },
     "execution_count": 42,
     "metadata": {},
     "output_type": "execute_result"
    }
   ],
   "source": [
    "new_df = photo_df.merge(tag_df, on=\"photo_id\", how=\"left\")\n",
    "new_df = new_df.merge(category_df, on=\"photo_id\", how=\"left\")\n",
    "new_df = new_df[new_df['photo_id'].apply(is_id_valid)]\n",
    "new_df.shape"
   ],
   "metadata": {
    "collapsed": false,
    "ExecuteTime": {
     "end_time": "2023-09-13T20:30:53.628520316Z",
     "start_time": "2023-09-13T20:30:51.873969450Z"
    }
   }
  },
  {
   "cell_type": "code",
   "execution_count": 43,
   "outputs": [
    {
     "data": {
      "text/plain": "            photo_id                                    photo_image_url  \\\n717480   -6JK87e42iQ  https://images.unsplash.com/photo-1546417492-5...   \n1270786  o9qVQKUa3w4  https://images.unsplash.com/photo-1552863027-9...   \n601180   kujXUuh1X0o  https://images.unsplash.com/photo-147573819823...   \n797850   Tq4YjCa2BSc  https://images.unsplash.com/photo-142224635853...   \n573230   BALZ8uogVjs  https://images.unsplash.com/photo-143122260626...   \n32365    AQ9-jKmebjM  https://images.unsplash.com/photo-157858931843...   \n1009420  ZVbv1akA-l4  https://images.unsplash.com/photo-143878665749...   \n912932   ap3LXI0fPJY  https://images.unsplash.com/photo-149849629466...   \n703794   nSokqhD9e04  https://images.unsplash.com/photo-147497457396...   \n874429   okVXy9tG3KY  https://images.unsplash.com/photo-150511838075...   \n\n                                         photo_description  \\\n717480                                                 NaN   \n1270786                                                NaN   \n601180                                                 NaN   \n797850                                   pottery and craft   \n573230                                           The Cabin   \n32365    Meandering wadis combine to form dense, branch...   \n1009420                        Écosse valley and mountains   \n912932   It was a beautiful and sunny day until I saw t...   \n703794                                Blue, red and yellow   \n874429                              Fuvahmulah maldives 🇲🇻   \n\n                                            ai_description  \\\n717480   aerial view photography of green body of water...   \n1270786      waterfalls in between of white rock formation   \n601180       silhouette photo of mountain during nighttime   \n797850   a close up of a person making something out of...   \n573230                          house on green grass field   \n32365              an aerial view of a large body of water   \n1009420                  mountain covered with green grass   \n912932                             closeup photo of clouds   \n703794                              three white plant pots   \n874429   aerial photography of large body of water and ...   \n\n                                                   keyword  \\\n717480   airfield,atoll,banner,cable car,creek,lagoon,p...   \n1270786                                                NaN   \n601180                                                 NaN   \n797850                                course,mould,shaping   \n573230                                                 NaN   \n32365                                          stark,wadis   \n1009420                                                NaN   \n912932                         greecesky,lookup,whitecolor   \n703794                                                 NaN   \n874429                                                 NaN   \n\n            collection_title  \n717480               the sea  \n1270786              strange  \n601180               nubulea  \n797850                 dosug  \n573230                  barn  \n32365           earth ledger  \n1009420             myfavpix  \n912932                 hmmmm  \n703794               schafer  \n874429   cms portrait scapes  ",
      "text/html": "<div>\n<style scoped>\n    .dataframe tbody tr th:only-of-type {\n        vertical-align: middle;\n    }\n\n    .dataframe tbody tr th {\n        vertical-align: top;\n    }\n\n    .dataframe thead th {\n        text-align: right;\n    }\n</style>\n<table border=\"1\" class=\"dataframe\">\n  <thead>\n    <tr style=\"text-align: right;\">\n      <th></th>\n      <th>photo_id</th>\n      <th>photo_image_url</th>\n      <th>photo_description</th>\n      <th>ai_description</th>\n      <th>keyword</th>\n      <th>collection_title</th>\n    </tr>\n  </thead>\n  <tbody>\n    <tr>\n      <th>717480</th>\n      <td>-6JK87e42iQ</td>\n      <td>https://images.unsplash.com/photo-1546417492-5...</td>\n      <td>NaN</td>\n      <td>aerial view photography of green body of water...</td>\n      <td>airfield,atoll,banner,cable car,creek,lagoon,p...</td>\n      <td>the sea</td>\n    </tr>\n    <tr>\n      <th>1270786</th>\n      <td>o9qVQKUa3w4</td>\n      <td>https://images.unsplash.com/photo-1552863027-9...</td>\n      <td>NaN</td>\n      <td>waterfalls in between of white rock formation</td>\n      <td>NaN</td>\n      <td>strange</td>\n    </tr>\n    <tr>\n      <th>601180</th>\n      <td>kujXUuh1X0o</td>\n      <td>https://images.unsplash.com/photo-147573819823...</td>\n      <td>NaN</td>\n      <td>silhouette photo of mountain during nighttime</td>\n      <td>NaN</td>\n      <td>nubulea</td>\n    </tr>\n    <tr>\n      <th>797850</th>\n      <td>Tq4YjCa2BSc</td>\n      <td>https://images.unsplash.com/photo-142224635853...</td>\n      <td>pottery and craft</td>\n      <td>a close up of a person making something out of...</td>\n      <td>course,mould,shaping</td>\n      <td>dosug</td>\n    </tr>\n    <tr>\n      <th>573230</th>\n      <td>BALZ8uogVjs</td>\n      <td>https://images.unsplash.com/photo-143122260626...</td>\n      <td>The Cabin</td>\n      <td>house on green grass field</td>\n      <td>NaN</td>\n      <td>barn</td>\n    </tr>\n    <tr>\n      <th>32365</th>\n      <td>AQ9-jKmebjM</td>\n      <td>https://images.unsplash.com/photo-157858931843...</td>\n      <td>Meandering wadis combine to form dense, branch...</td>\n      <td>an aerial view of a large body of water</td>\n      <td>stark,wadis</td>\n      <td>earth ledger</td>\n    </tr>\n    <tr>\n      <th>1009420</th>\n      <td>ZVbv1akA-l4</td>\n      <td>https://images.unsplash.com/photo-143878665749...</td>\n      <td>Écosse valley and mountains</td>\n      <td>mountain covered with green grass</td>\n      <td>NaN</td>\n      <td>myfavpix</td>\n    </tr>\n    <tr>\n      <th>912932</th>\n      <td>ap3LXI0fPJY</td>\n      <td>https://images.unsplash.com/photo-149849629466...</td>\n      <td>It was a beautiful and sunny day until I saw t...</td>\n      <td>closeup photo of clouds</td>\n      <td>greecesky,lookup,whitecolor</td>\n      <td>hmmmm</td>\n    </tr>\n    <tr>\n      <th>703794</th>\n      <td>nSokqhD9e04</td>\n      <td>https://images.unsplash.com/photo-147497457396...</td>\n      <td>Blue, red and yellow</td>\n      <td>three white plant pots</td>\n      <td>NaN</td>\n      <td>schafer</td>\n    </tr>\n    <tr>\n      <th>874429</th>\n      <td>okVXy9tG3KY</td>\n      <td>https://images.unsplash.com/photo-150511838075...</td>\n      <td>Fuvahmulah maldives 🇲🇻</td>\n      <td>aerial photography of large body of water and ...</td>\n      <td>NaN</td>\n      <td>cms portrait scapes</td>\n    </tr>\n  </tbody>\n</table>\n</div>"
     },
     "execution_count": 43,
     "metadata": {},
     "output_type": "execute_result"
    }
   ],
   "source": [
    "new_df.sample(10)"
   ],
   "metadata": {
    "collapsed": false,
    "ExecuteTime": {
     "end_time": "2023-09-13T20:30:55.926517312Z",
     "start_time": "2023-09-13T20:30:55.687468983Z"
    }
   }
  },
  {
   "cell_type": "code",
   "execution_count": 44,
   "outputs": [
    {
     "data": {
      "text/plain": "(25000, 6)"
     },
     "execution_count": 44,
     "metadata": {},
     "output_type": "execute_result"
    }
   ],
   "source": [
    "new_df = new_df.drop_duplicates(subset=['photo_id'])\n",
    "new_df.reset_index(drop=True, inplace=True)\n",
    "new_df.shape"
   ],
   "metadata": {
    "collapsed": false,
    "ExecuteTime": {
     "end_time": "2023-09-13T20:31:19.761029196Z",
     "start_time": "2023-09-13T20:31:19.642367803Z"
    }
   }
  },
  {
   "cell_type": "code",
   "execution_count": 45,
   "outputs": [
    {
     "data": {
      "text/plain": "          photo_id                                    photo_image_url  \\\n17056  LwKfWWAdgcc  https://images.unsplash.com/photo-1556970334-8...   \n21891  Ho6QQfohuYA  https://images.unsplash.com/photo-1553687616-c...   \n9053   gQrYB3j9mJ0  https://images.unsplash.com/photo-150472275407...   \n2205   ePelyMHwUok  https://images.unsplash.com/photo-143229477061...   \n5883   FahgY_bIPXg  https://images.unsplash.com/photo-1547593415-3...   \n13376  lpi3K6TjssQ  https://images.unsplash.com/photo-1554189098-4...   \n14007  lApiQ3--c0k  https://images.unsplash.com/photo-1545504562-b...   \n9181   quQe3CR6z14  https://images.unsplash.com/photo-157765636706...   \n14941  K3leeZ38kdk  https://images.unsplash.com/photo-157151182580...   \n23041  C87vfR6C_aE  https://images.unsplash.com/photo-1555118370-1...   \n23741  Fyr_9iyz8Vg  https://images.unsplash.com/reserve/D0Ib5j36Ry...   \n3226   qV16cq3T420  https://images.unsplash.com/photo-1549435398-d...   \n3433   HodO28NEcLQ  https://images.unsplash.com/photo-156611638800...   \n14932  tdwXsN5M3Ag  https://images.unsplash.com/photo-157748175934...   \n883    wBeZ9p_3K0g  https://images.unsplash.com/photo-157815860774...   \n19035  mdE6-YNEqhU  https://images.unsplash.com/photo-158031600859...   \n18454  njXct2R4jzM  https://images.unsplash.com/photo-1557322397-c...   \n4186   D4mhW-yEWRk  https://images.unsplash.com/photo-1557805350-a...   \n3042   3nQhyFuwUkk  https://images.unsplash.com/photo-1546460573-e...   \n13313  kOlOgzBCFBE  https://images.unsplash.com/photo-1558136015-7...   \n\n                                       photo_description  \\\n17056    From sunlight gradient to a springlike pattern!   \n21891                                                NaN   \n9053   Flying domestic from Newark to Milwaukee to st...   \n2205                                            in ruins   \n5883                                                 NaN   \n13376                                                NaN   \n14007                                                NaN   \n9181                                                 NaN   \n14941        A magical waterfall underpass in the summer   \n23041                                                NaN   \n23741                         monochrome sunrays and sea   \n3226                                                 NaN   \n3433                                                 NaN   \n14932  Aerial View of a Frozen Lake | Shot on DJI Mav...   \n883                                                  NaN   \n19035  Tulips are a sign of spring with its reviving ...   \n18454                                                NaN   \n4186                                                 NaN   \n3042   Portrait of my dog called Marli. Shot with a C...   \n13313                                                NaN   \n\n                                          ai_description  \\\n17056  a man riding a snowboard down a snow covered s...   \n21891                             white flower decor lot   \n9053                                     cloud formation   \n2205   landscape photography of forest during cloudy day   \n5883           a close up of water droplets on a surface   \n13376         aerial photography of snow capped mountain   \n14007                                   green leaf trees   \n9181                                       trees on hill   \n14941                                         waterfalls   \n23041          white ceramic mug on brown wooden surface   \n23741                       body of water during daytime   \n3226               close-up photography of white flowers   \n3433       four people hiking on mountain during daytime   \n14932                  a close up view of a blue surface   \n883                        brown deer eating green grass   \n19035         pink and yellow tulips in clear glass vase   \n18454                     close-up photography of iguana   \n4186      empty road between trees in aerial photography   \n3042                              short-coated black dog   \n13313          an aerial view of a sandy beach and ocean   \n\n                          keyword   collection_title  \n17056                         NaN           abstract  \n21891                         NaN   visual branding   \n9053                          sas                  v  \n2205                          NaN         ahista tea  \n5883                          NaN           abstract  \n13376                         NaN          aesthetic  \n14007                         NaN           pathways  \n9181                          NaN         background  \n14941                         NaN                 aa  \n23041                         NaN                  a  \n23741                      choppy       above ground  \n3226                          NaN        advertising  \n3433                          NaN            coletti  \n14932                         NaN        art texture  \n883                           NaN           wildlife  \n19035                   naturmort   aos brand photos  \n18454                         NaN     act for nature  \n4186                    tributary             aerial  \n3042   banjo,rescue dog,stray dog          ad images  \n13313                         NaN                  a  ",
      "text/html": "<div>\n<style scoped>\n    .dataframe tbody tr th:only-of-type {\n        vertical-align: middle;\n    }\n\n    .dataframe tbody tr th {\n        vertical-align: top;\n    }\n\n    .dataframe thead th {\n        text-align: right;\n    }\n</style>\n<table border=\"1\" class=\"dataframe\">\n  <thead>\n    <tr style=\"text-align: right;\">\n      <th></th>\n      <th>photo_id</th>\n      <th>photo_image_url</th>\n      <th>photo_description</th>\n      <th>ai_description</th>\n      <th>keyword</th>\n      <th>collection_title</th>\n    </tr>\n  </thead>\n  <tbody>\n    <tr>\n      <th>17056</th>\n      <td>LwKfWWAdgcc</td>\n      <td>https://images.unsplash.com/photo-1556970334-8...</td>\n      <td>From sunlight gradient to a springlike pattern!</td>\n      <td>a man riding a snowboard down a snow covered s...</td>\n      <td>NaN</td>\n      <td>abstract</td>\n    </tr>\n    <tr>\n      <th>21891</th>\n      <td>Ho6QQfohuYA</td>\n      <td>https://images.unsplash.com/photo-1553687616-c...</td>\n      <td>NaN</td>\n      <td>white flower decor lot</td>\n      <td>NaN</td>\n      <td>visual branding</td>\n    </tr>\n    <tr>\n      <th>9053</th>\n      <td>gQrYB3j9mJ0</td>\n      <td>https://images.unsplash.com/photo-150472275407...</td>\n      <td>Flying domestic from Newark to Milwaukee to st...</td>\n      <td>cloud formation</td>\n      <td>sas</td>\n      <td>v</td>\n    </tr>\n    <tr>\n      <th>2205</th>\n      <td>ePelyMHwUok</td>\n      <td>https://images.unsplash.com/photo-143229477061...</td>\n      <td>in ruins</td>\n      <td>landscape photography of forest during cloudy day</td>\n      <td>NaN</td>\n      <td>ahista tea</td>\n    </tr>\n    <tr>\n      <th>5883</th>\n      <td>FahgY_bIPXg</td>\n      <td>https://images.unsplash.com/photo-1547593415-3...</td>\n      <td>NaN</td>\n      <td>a close up of water droplets on a surface</td>\n      <td>NaN</td>\n      <td>abstract</td>\n    </tr>\n    <tr>\n      <th>13376</th>\n      <td>lpi3K6TjssQ</td>\n      <td>https://images.unsplash.com/photo-1554189098-4...</td>\n      <td>NaN</td>\n      <td>aerial photography of snow capped mountain</td>\n      <td>NaN</td>\n      <td>aesthetic</td>\n    </tr>\n    <tr>\n      <th>14007</th>\n      <td>lApiQ3--c0k</td>\n      <td>https://images.unsplash.com/photo-1545504562-b...</td>\n      <td>NaN</td>\n      <td>green leaf trees</td>\n      <td>NaN</td>\n      <td>pathways</td>\n    </tr>\n    <tr>\n      <th>9181</th>\n      <td>quQe3CR6z14</td>\n      <td>https://images.unsplash.com/photo-157765636706...</td>\n      <td>NaN</td>\n      <td>trees on hill</td>\n      <td>NaN</td>\n      <td>background</td>\n    </tr>\n    <tr>\n      <th>14941</th>\n      <td>K3leeZ38kdk</td>\n      <td>https://images.unsplash.com/photo-157151182580...</td>\n      <td>A magical waterfall underpass in the summer</td>\n      <td>waterfalls</td>\n      <td>NaN</td>\n      <td>aa</td>\n    </tr>\n    <tr>\n      <th>23041</th>\n      <td>C87vfR6C_aE</td>\n      <td>https://images.unsplash.com/photo-1555118370-1...</td>\n      <td>NaN</td>\n      <td>white ceramic mug on brown wooden surface</td>\n      <td>NaN</td>\n      <td>a</td>\n    </tr>\n    <tr>\n      <th>23741</th>\n      <td>Fyr_9iyz8Vg</td>\n      <td>https://images.unsplash.com/reserve/D0Ib5j36Ry...</td>\n      <td>monochrome sunrays and sea</td>\n      <td>body of water during daytime</td>\n      <td>choppy</td>\n      <td>above ground</td>\n    </tr>\n    <tr>\n      <th>3226</th>\n      <td>qV16cq3T420</td>\n      <td>https://images.unsplash.com/photo-1549435398-d...</td>\n      <td>NaN</td>\n      <td>close-up photography of white flowers</td>\n      <td>NaN</td>\n      <td>advertising</td>\n    </tr>\n    <tr>\n      <th>3433</th>\n      <td>HodO28NEcLQ</td>\n      <td>https://images.unsplash.com/photo-156611638800...</td>\n      <td>NaN</td>\n      <td>four people hiking on mountain during daytime</td>\n      <td>NaN</td>\n      <td>coletti</td>\n    </tr>\n    <tr>\n      <th>14932</th>\n      <td>tdwXsN5M3Ag</td>\n      <td>https://images.unsplash.com/photo-157748175934...</td>\n      <td>Aerial View of a Frozen Lake | Shot on DJI Mav...</td>\n      <td>a close up view of a blue surface</td>\n      <td>NaN</td>\n      <td>art texture</td>\n    </tr>\n    <tr>\n      <th>883</th>\n      <td>wBeZ9p_3K0g</td>\n      <td>https://images.unsplash.com/photo-157815860774...</td>\n      <td>NaN</td>\n      <td>brown deer eating green grass</td>\n      <td>NaN</td>\n      <td>wildlife</td>\n    </tr>\n    <tr>\n      <th>19035</th>\n      <td>mdE6-YNEqhU</td>\n      <td>https://images.unsplash.com/photo-158031600859...</td>\n      <td>Tulips are a sign of spring with its reviving ...</td>\n      <td>pink and yellow tulips in clear glass vase</td>\n      <td>naturmort</td>\n      <td>aos brand photos</td>\n    </tr>\n    <tr>\n      <th>18454</th>\n      <td>njXct2R4jzM</td>\n      <td>https://images.unsplash.com/photo-1557322397-c...</td>\n      <td>NaN</td>\n      <td>close-up photography of iguana</td>\n      <td>NaN</td>\n      <td>act for nature</td>\n    </tr>\n    <tr>\n      <th>4186</th>\n      <td>D4mhW-yEWRk</td>\n      <td>https://images.unsplash.com/photo-1557805350-a...</td>\n      <td>NaN</td>\n      <td>empty road between trees in aerial photography</td>\n      <td>tributary</td>\n      <td>aerial</td>\n    </tr>\n    <tr>\n      <th>3042</th>\n      <td>3nQhyFuwUkk</td>\n      <td>https://images.unsplash.com/photo-1546460573-e...</td>\n      <td>Portrait of my dog called Marli. Shot with a C...</td>\n      <td>short-coated black dog</td>\n      <td>banjo,rescue dog,stray dog</td>\n      <td>ad images</td>\n    </tr>\n    <tr>\n      <th>13313</th>\n      <td>kOlOgzBCFBE</td>\n      <td>https://images.unsplash.com/photo-1558136015-7...</td>\n      <td>NaN</td>\n      <td>an aerial view of a sandy beach and ocean</td>\n      <td>NaN</td>\n      <td>a</td>\n    </tr>\n  </tbody>\n</table>\n</div>"
     },
     "execution_count": 45,
     "metadata": {},
     "output_type": "execute_result"
    }
   ],
   "source": [
    "new_df.sample(20)"
   ],
   "metadata": {
    "collapsed": false,
    "ExecuteTime": {
     "end_time": "2023-09-13T20:31:21.872088315Z",
     "start_time": "2023-09-13T20:31:21.794803991Z"
    }
   }
  },
  {
   "cell_type": "code",
   "execution_count": null,
   "outputs": [],
   "source": [],
   "metadata": {
    "collapsed": false
   }
  }
 ],
 "metadata": {
  "kernelspec": {
   "display_name": "Python 3",
   "language": "python",
   "name": "python3"
  },
  "language_info": {
   "codemirror_mode": {
    "name": "ipython",
    "version": 2
   },
   "file_extension": ".py",
   "mimetype": "text/x-python",
   "name": "python",
   "nbconvert_exporter": "python",
   "pygments_lexer": "ipython2",
   "version": "2.7.6"
  }
 },
 "nbformat": 4,
 "nbformat_minor": 0
}
