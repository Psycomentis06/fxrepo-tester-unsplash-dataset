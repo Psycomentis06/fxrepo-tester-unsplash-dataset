{
 "cells": [
  {
   "cell_type": "code",
   "execution_count": null,
   "outputs": [],
   "source": [
    "import pandas as pd\n",
    "import matplotlib.pyplot as plt\n",
    "\n",
    "photos_df = pd.read_csv(\"../data/photos.tsv000\", sep='\\t', header=0)\n",
    "tags_df = pd.read_csv(\"../data/keywords.tsv000\", sep='\\t', header=0)\n",
    "category_df = pd.read_csv(\"../data/collections.tsv000\", sep='\\t', header=0)\n",
    "\n",
    "\n",
    "# new_df.to_csv('../data/export/photos_with_tags.tsv', sep='\\t', index=False)"
   ],
   "metadata": {
    "collapsed": false
   }
  },
  {
   "cell_type": "code",
   "execution_count": null,
   "outputs": [],
   "source": [
    "patterns = r'[@#&$%+-_~\\'\"`\\\\/*0-9@$-?]'\n",
    "photos_df = photos_df.drop(photos_df[photos_df['photo_image_url'].str.len() == 0].index)\n",
    "tags_df = tags_df.drop(tags_df[(tags_df['keyword'].str.len() == 0) & (tags_df['keyword'].str.len() > 20) & (tags_df['keyword'].str.contains(patterns))].index)\n",
    "category_df = category_df .drop(category_df[(category_df['collection_title'].str.len() == 0) & (category_df['collection_title'].str.len() > 20) & (category_df['collection_title'].str.contains(patterns))].index)\n"
   ],
   "metadata": {
    "collapsed": false
   }
  },
  {
   "cell_type": "code",
   "execution_count": null,
   "outputs": [],
   "source": [],
   "metadata": {
    "collapsed": false
   }
  },
  {
   "cell_type": "code",
   "execution_count": null,
   "outputs": [],
   "source": [
    "tags_df = tags_df.groupby('photo_id')['keyword'].apply(','.join).reset_index()\n",
    "tags_df.head()\n"
   ],
   "metadata": {
    "collapsed": false
   }
  },
  {
   "cell_type": "code",
   "execution_count": null,
   "outputs": [],
   "source": [
    "category_df['collection_title'] = category_df['collection_title'].astype(str)\n",
    "category_df = category_df.groupby('photo_id')['collection_title'].apply(','.join).reset_index()\n",
    "category_df.head()"
   ],
   "metadata": {
    "collapsed": false
   }
  },
  {
   "cell_type": "code",
   "execution_count": null,
   "outputs": [],
   "source": [
    "new_df = photos_df.merge(tags_df, on='photo_id', how='left').merge(category_df, on='photo_id', how='left')\n",
    "new_df = new_df[['photo_id', 'photo_image_url', 'photo_description', 'ai_description', 'keyword', 'collection_title']]\n",
    "\n",
    "new_df.loc[new_df['photo_id'] == 'zwW7ZQO5-Lo']\n"
   ],
   "metadata": {
    "collapsed": false
   }
  },
  {
   "cell_type": "code",
   "execution_count": null,
   "outputs": [],
   "source": [
    "new_df.loc[new_df['photo_id'] == '--2IBUMom1I']"
   ],
   "metadata": {
    "collapsed": false
   }
  },
  {
   "cell_type": "code",
   "execution_count": null,
   "outputs": [],
   "source": [
    "\n",
    "new_df = new_df.rename(columns={\n",
    "    'photo_id': 'id',\n",
    "    'photo_image_url': 'image_url',\n",
    "    'photo_description': 'title',\n",
    "    'ai_description': 'description',\n",
    "    'keyword': 'tags',\n",
    "    'collection_title': 'category'\n",
    "})"
   ],
   "metadata": {
    "collapsed": false
   }
  },
  {
   "cell_type": "code",
   "execution_count": null,
   "outputs": [],
   "source": [],
   "metadata": {
    "collapsed": false
   }
  },
  {
   "cell_type": "code",
   "execution_count": null,
   "outputs": [],
   "source": [],
   "metadata": {
    "collapsed": false
   }
  }
 ],
 "metadata": {
  "kernelspec": {
   "display_name": "Python 3",
   "language": "python",
   "name": "python3"
  },
  "language_info": {
   "codemirror_mode": {
    "name": "ipython",
    "version": 2
   },
   "file_extension": ".py",
   "mimetype": "text/x-python",
   "name": "python",
   "nbconvert_exporter": "python",
   "pygments_lexer": "ipython2",
   "version": "2.7.6"
  }
 },
 "nbformat": 4,
 "nbformat_minor": 0
}
